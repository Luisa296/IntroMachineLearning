{
  "cells": [
    {
      "cell_type": "markdown",
      "id": "065dc667",
      "metadata": {
        "id": "065dc667"
      },
      "source": [
        "# SMS Spam Classification – Notebook corregido\n",
        "Este cuaderno soluciona los errores de forma y vacíos que provocaban fallos en el entrenamiento."
      ]
    },
    {
      "cell_type": "markdown",
      "id": "efb9c929",
      "metadata": {
        "id": "efb9c929"
      },
      "source": [
        "## 0. Descarga y limpieza del dataset"
      ]
    },
    {
      "cell_type": "code",
      "execution_count": 23,
      "id": "895e322f",
      "metadata": {
        "colab": {
          "base_uri": "https://localhost:8080/",
          "height": 206
        },
        "id": "895e322f",
        "outputId": "66eba816-9256-423f-9f33-8dbd21185fdf"
      },
      "outputs": [
        {
          "output_type": "execute_result",
          "data": {
            "text/plain": [
              "  label                                               text\n",
              "0   ham  Go until jurong point, crazy.. Available only ...\n",
              "1   ham                      Ok lar... Joking wif u oni...\n",
              "2  spam  Free entry in 2 a wkly comp to win FA Cup fina...\n",
              "3   ham  U dun say so early hor... U c already then say...\n",
              "4   ham  Nah I don't think he goes to usf, he lives aro..."
            ],
            "text/html": [
              "\n",
              "  <div id=\"df-657253bb-fa69-4113-9f63-5187948c054c\" class=\"colab-df-container\">\n",
              "    <div>\n",
              "<style scoped>\n",
              "    .dataframe tbody tr th:only-of-type {\n",
              "        vertical-align: middle;\n",
              "    }\n",
              "\n",
              "    .dataframe tbody tr th {\n",
              "        vertical-align: top;\n",
              "    }\n",
              "\n",
              "    .dataframe thead th {\n",
              "        text-align: right;\n",
              "    }\n",
              "</style>\n",
              "<table border=\"1\" class=\"dataframe\">\n",
              "  <thead>\n",
              "    <tr style=\"text-align: right;\">\n",
              "      <th></th>\n",
              "      <th>label</th>\n",
              "      <th>text</th>\n",
              "    </tr>\n",
              "  </thead>\n",
              "  <tbody>\n",
              "    <tr>\n",
              "      <th>0</th>\n",
              "      <td>ham</td>\n",
              "      <td>Go until jurong point, crazy.. Available only ...</td>\n",
              "    </tr>\n",
              "    <tr>\n",
              "      <th>1</th>\n",
              "      <td>ham</td>\n",
              "      <td>Ok lar... Joking wif u oni...</td>\n",
              "    </tr>\n",
              "    <tr>\n",
              "      <th>2</th>\n",
              "      <td>spam</td>\n",
              "      <td>Free entry in 2 a wkly comp to win FA Cup fina...</td>\n",
              "    </tr>\n",
              "    <tr>\n",
              "      <th>3</th>\n",
              "      <td>ham</td>\n",
              "      <td>U dun say so early hor... U c already then say...</td>\n",
              "    </tr>\n",
              "    <tr>\n",
              "      <th>4</th>\n",
              "      <td>ham</td>\n",
              "      <td>Nah I don't think he goes to usf, he lives aro...</td>\n",
              "    </tr>\n",
              "  </tbody>\n",
              "</table>\n",
              "</div>\n",
              "    <div class=\"colab-df-buttons\">\n",
              "\n",
              "  <div class=\"colab-df-container\">\n",
              "    <button class=\"colab-df-convert\" onclick=\"convertToInteractive('df-657253bb-fa69-4113-9f63-5187948c054c')\"\n",
              "            title=\"Convert this dataframe to an interactive table.\"\n",
              "            style=\"display:none;\">\n",
              "\n",
              "  <svg xmlns=\"http://www.w3.org/2000/svg\" height=\"24px\" viewBox=\"0 -960 960 960\">\n",
              "    <path d=\"M120-120v-720h720v720H120Zm60-500h600v-160H180v160Zm220 220h160v-160H400v160Zm0 220h160v-160H400v160ZM180-400h160v-160H180v160Zm440 0h160v-160H620v160ZM180-180h160v-160H180v160Zm440 0h160v-160H620v160Z\"/>\n",
              "  </svg>\n",
              "    </button>\n",
              "\n",
              "  <style>\n",
              "    .colab-df-container {\n",
              "      display:flex;\n",
              "      gap: 12px;\n",
              "    }\n",
              "\n",
              "    .colab-df-convert {\n",
              "      background-color: #E8F0FE;\n",
              "      border: none;\n",
              "      border-radius: 50%;\n",
              "      cursor: pointer;\n",
              "      display: none;\n",
              "      fill: #1967D2;\n",
              "      height: 32px;\n",
              "      padding: 0 0 0 0;\n",
              "      width: 32px;\n",
              "    }\n",
              "\n",
              "    .colab-df-convert:hover {\n",
              "      background-color: #E2EBFA;\n",
              "      box-shadow: 0px 1px 2px rgba(60, 64, 67, 0.3), 0px 1px 3px 1px rgba(60, 64, 67, 0.15);\n",
              "      fill: #174EA6;\n",
              "    }\n",
              "\n",
              "    .colab-df-buttons div {\n",
              "      margin-bottom: 4px;\n",
              "    }\n",
              "\n",
              "    [theme=dark] .colab-df-convert {\n",
              "      background-color: #3B4455;\n",
              "      fill: #D2E3FC;\n",
              "    }\n",
              "\n",
              "    [theme=dark] .colab-df-convert:hover {\n",
              "      background-color: #434B5C;\n",
              "      box-shadow: 0px 1px 3px 1px rgba(0, 0, 0, 0.15);\n",
              "      filter: drop-shadow(0px 1px 2px rgba(0, 0, 0, 0.3));\n",
              "      fill: #FFFFFF;\n",
              "    }\n",
              "  </style>\n",
              "\n",
              "    <script>\n",
              "      const buttonEl =\n",
              "        document.querySelector('#df-657253bb-fa69-4113-9f63-5187948c054c button.colab-df-convert');\n",
              "      buttonEl.style.display =\n",
              "        google.colab.kernel.accessAllowed ? 'block' : 'none';\n",
              "\n",
              "      async function convertToInteractive(key) {\n",
              "        const element = document.querySelector('#df-657253bb-fa69-4113-9f63-5187948c054c');\n",
              "        const dataTable =\n",
              "          await google.colab.kernel.invokeFunction('convertToInteractive',\n",
              "                                                    [key], {});\n",
              "        if (!dataTable) return;\n",
              "\n",
              "        const docLinkHtml = 'Like what you see? Visit the ' +\n",
              "          '<a target=\"_blank\" href=https://colab.research.google.com/notebooks/data_table.ipynb>data table notebook</a>'\n",
              "          + ' to learn more about interactive tables.';\n",
              "        element.innerHTML = '';\n",
              "        dataTable['output_type'] = 'display_data';\n",
              "        await google.colab.output.renderOutput(dataTable, element);\n",
              "        const docLink = document.createElement('div');\n",
              "        docLink.innerHTML = docLinkHtml;\n",
              "        element.appendChild(docLink);\n",
              "      }\n",
              "    </script>\n",
              "  </div>\n",
              "\n",
              "\n",
              "    <div id=\"df-97b4d8a4-5856-4ed3-96aa-4bdf087d62b5\">\n",
              "      <button class=\"colab-df-quickchart\" onclick=\"quickchart('df-97b4d8a4-5856-4ed3-96aa-4bdf087d62b5')\"\n",
              "                title=\"Suggest charts\"\n",
              "                style=\"display:none;\">\n",
              "\n",
              "<svg xmlns=\"http://www.w3.org/2000/svg\" height=\"24px\"viewBox=\"0 0 24 24\"\n",
              "     width=\"24px\">\n",
              "    <g>\n",
              "        <path d=\"M19 3H5c-1.1 0-2 .9-2 2v14c0 1.1.9 2 2 2h14c1.1 0 2-.9 2-2V5c0-1.1-.9-2-2-2zM9 17H7v-7h2v7zm4 0h-2V7h2v10zm4 0h-2v-4h2v4z\"/>\n",
              "    </g>\n",
              "</svg>\n",
              "      </button>\n",
              "\n",
              "<style>\n",
              "  .colab-df-quickchart {\n",
              "      --bg-color: #E8F0FE;\n",
              "      --fill-color: #1967D2;\n",
              "      --hover-bg-color: #E2EBFA;\n",
              "      --hover-fill-color: #174EA6;\n",
              "      --disabled-fill-color: #AAA;\n",
              "      --disabled-bg-color: #DDD;\n",
              "  }\n",
              "\n",
              "  [theme=dark] .colab-df-quickchart {\n",
              "      --bg-color: #3B4455;\n",
              "      --fill-color: #D2E3FC;\n",
              "      --hover-bg-color: #434B5C;\n",
              "      --hover-fill-color: #FFFFFF;\n",
              "      --disabled-bg-color: #3B4455;\n",
              "      --disabled-fill-color: #666;\n",
              "  }\n",
              "\n",
              "  .colab-df-quickchart {\n",
              "    background-color: var(--bg-color);\n",
              "    border: none;\n",
              "    border-radius: 50%;\n",
              "    cursor: pointer;\n",
              "    display: none;\n",
              "    fill: var(--fill-color);\n",
              "    height: 32px;\n",
              "    padding: 0;\n",
              "    width: 32px;\n",
              "  }\n",
              "\n",
              "  .colab-df-quickchart:hover {\n",
              "    background-color: var(--hover-bg-color);\n",
              "    box-shadow: 0 1px 2px rgba(60, 64, 67, 0.3), 0 1px 3px 1px rgba(60, 64, 67, 0.15);\n",
              "    fill: var(--button-hover-fill-color);\n",
              "  }\n",
              "\n",
              "  .colab-df-quickchart-complete:disabled,\n",
              "  .colab-df-quickchart-complete:disabled:hover {\n",
              "    background-color: var(--disabled-bg-color);\n",
              "    fill: var(--disabled-fill-color);\n",
              "    box-shadow: none;\n",
              "  }\n",
              "\n",
              "  .colab-df-spinner {\n",
              "    border: 2px solid var(--fill-color);\n",
              "    border-color: transparent;\n",
              "    border-bottom-color: var(--fill-color);\n",
              "    animation:\n",
              "      spin 1s steps(1) infinite;\n",
              "  }\n",
              "\n",
              "  @keyframes spin {\n",
              "    0% {\n",
              "      border-color: transparent;\n",
              "      border-bottom-color: var(--fill-color);\n",
              "      border-left-color: var(--fill-color);\n",
              "    }\n",
              "    20% {\n",
              "      border-color: transparent;\n",
              "      border-left-color: var(--fill-color);\n",
              "      border-top-color: var(--fill-color);\n",
              "    }\n",
              "    30% {\n",
              "      border-color: transparent;\n",
              "      border-left-color: var(--fill-color);\n",
              "      border-top-color: var(--fill-color);\n",
              "      border-right-color: var(--fill-color);\n",
              "    }\n",
              "    40% {\n",
              "      border-color: transparent;\n",
              "      border-right-color: var(--fill-color);\n",
              "      border-top-color: var(--fill-color);\n",
              "    }\n",
              "    60% {\n",
              "      border-color: transparent;\n",
              "      border-right-color: var(--fill-color);\n",
              "    }\n",
              "    80% {\n",
              "      border-color: transparent;\n",
              "      border-right-color: var(--fill-color);\n",
              "      border-bottom-color: var(--fill-color);\n",
              "    }\n",
              "    90% {\n",
              "      border-color: transparent;\n",
              "      border-bottom-color: var(--fill-color);\n",
              "    }\n",
              "  }\n",
              "</style>\n",
              "\n",
              "      <script>\n",
              "        async function quickchart(key) {\n",
              "          const quickchartButtonEl =\n",
              "            document.querySelector('#' + key + ' button');\n",
              "          quickchartButtonEl.disabled = true;  // To prevent multiple clicks.\n",
              "          quickchartButtonEl.classList.add('colab-df-spinner');\n",
              "          try {\n",
              "            const charts = await google.colab.kernel.invokeFunction(\n",
              "                'suggestCharts', [key], {});\n",
              "          } catch (error) {\n",
              "            console.error('Error during call to suggestCharts:', error);\n",
              "          }\n",
              "          quickchartButtonEl.classList.remove('colab-df-spinner');\n",
              "          quickchartButtonEl.classList.add('colab-df-quickchart-complete');\n",
              "        }\n",
              "        (() => {\n",
              "          let quickchartButtonEl =\n",
              "            document.querySelector('#df-97b4d8a4-5856-4ed3-96aa-4bdf087d62b5 button');\n",
              "          quickchartButtonEl.style.display =\n",
              "            google.colab.kernel.accessAllowed ? 'block' : 'none';\n",
              "        })();\n",
              "      </script>\n",
              "    </div>\n",
              "\n",
              "    </div>\n",
              "  </div>\n"
            ],
            "application/vnd.google.colaboratory.intrinsic+json": {
              "type": "dataframe",
              "variable_name": "df",
              "summary": "{\n  \"name\": \"df\",\n  \"rows\": 5572,\n  \"fields\": [\n    {\n      \"column\": \"label\",\n      \"properties\": {\n        \"dtype\": \"category\",\n        \"num_unique_values\": 2,\n        \"samples\": [\n          \"spam\",\n          \"ham\"\n        ],\n        \"semantic_type\": \"\",\n        \"description\": \"\"\n      }\n    },\n    {\n      \"column\": \"text\",\n      \"properties\": {\n        \"dtype\": \"string\",\n        \"num_unique_values\": 5169,\n        \"samples\": [\n          \"Did u download the fring app?\",\n          \"Pass dis to all ur contacts n see wat u get! Red;i'm in luv wid u. Blue;u put a smile on my face. Purple;u r realy hot. Pink;u r so swt. Orange;i thnk i lyk u. Green;i realy wana go out wid u. Yelow;i wnt u bck. Black;i'm jealous of u. Brown;i miss you Nw plz giv me one color\"\n        ],\n        \"semantic_type\": \"\",\n        \"description\": \"\"\n      }\n    }\n  ]\n}"
            }
          },
          "metadata": {},
          "execution_count": 23
        }
      ],
      "source": [
        "import pandas as pd, numpy as np, tensorflow as tf\n",
        "import matplotlib.pyplot as plt, seaborn as sns\n",
        "from sklearn.model_selection import train_test_split\n",
        "from sklearn.metrics import classification_report, confusion_matrix, roc_curve, auc\n",
        "\n",
        "# Descarga (solo la primera vez)\n",
        "!wget -q -O spam.csv https://raw.githubusercontent.com/javierherrera1996/IntroMachineLearning/refs/heads/main/TercerCorte/spam.csv\n",
        "\n",
        "# Cargar CSV con codificación correcta y quedarnos con columnas relevantes\n",
        "df = (pd.read_csv(\"spam.csv\", encoding=\"ISO-8859-1\")\n",
        "        .rename(columns={'v1':'label', 'v2':'text'})\n",
        "        [['label','text']])\n",
        "\n",
        "# Eliminar filas con texto vacío o nulo\n",
        "df = df.dropna(subset=['text'])\n",
        "df = df[df['text'].str.strip().astype(bool)]\n",
        "\n",
        "df.head()"
      ]
    },
    {
      "cell_type": "markdown",
      "id": "8feed2ea",
      "metadata": {
        "id": "8feed2ea"
      },
      "source": [
        "## 1. Configuración y seed"
      ]
    },
    {
      "cell_type": "code",
      "execution_count": 24,
      "id": "63de9b29",
      "metadata": {
        "id": "63de9b29"
      },
      "outputs": [],
      "source": [
        "AUTOTUNE = tf.data.AUTOTUNE\n",
        "np.random.seed(42)\n",
        "tf.random.set_seed(42)\n"
      ]
    },
    {
      "cell_type": "markdown",
      "id": "a39ae649",
      "metadata": {
        "id": "a39ae649"
      },
      "source": [
        "## 2. División Train/Test"
      ]
    },
    {
      "cell_type": "code",
      "execution_count": 25,
      "id": "be9f81fa",
      "metadata": {
        "colab": {
          "base_uri": "https://localhost:8080/"
        },
        "id": "be9f81fa",
        "outputId": "25cbb946-4c8d-477d-deb8-574eb2053cb9"
      },
      "outputs": [
        {
          "output_type": "stream",
          "name": "stdout",
          "text": [
            "4457 train | 1115 test\n"
          ]
        }
      ],
      "source": [
        "y = df['label'].map({'ham':0,'spam':1})\n",
        "X_train, X_test, y_train, y_test = train_test_split(\n",
        "    df['text'], y, test_size=0.2, stratify=y, random_state=42)\n",
        "\n",
        "print(len(X_train),\"train |\", len(X_test),\"test\")\n"
      ]
    },
    {
      "cell_type": "markdown",
      "id": "37a87e6c",
      "metadata": {
        "id": "37a87e6c"
      },
      "source": [
        "## 3. Vectorización de texto con manejo seguro de dimensiones"
      ]
    },
    {
      "cell_type": "code",
      "execution_count": 26,
      "id": "5ccbba46",
      "metadata": {
        "id": "5ccbba46"
      },
      "outputs": [],
      "source": [
        "MAX_TOKENS, MAX_LEN = 10000, 100\n",
        "vectorizer = tf.keras.layers.TextVectorization(\n",
        "    max_tokens=MAX_TOKENS,\n",
        "    output_sequence_length=MAX_LEN,\n",
        "    standardize=\"lower_and_strip_punctuation\")\n",
        "vectorizer.adapt(X_train.values)\n",
        "\n",
        "def to_tensor(txt, label):\n",
        "    txt = tf.expand_dims(txt, -1)          # (1,)\n",
        "    seq = tf.squeeze(vectorizer(txt), axis=0) # (MAX_LEN,)\n",
        "    return seq, label\n",
        "\n",
        "batch = 32\n",
        "train_ds = (tf.data.Dataset.from_tensor_slices((X_train.values, y_train.values))\n",
        "            .shuffle(10000)\n",
        "            .map(to_tensor, num_parallel_calls=AUTOTUNE)\n",
        "            .batch(batch)\n",
        "            .prefetch(AUTOTUNE))\n",
        "test_ds  = (tf.data.Dataset.from_tensor_slices((X_test.values, y_test.values))\n",
        "            .map(to_tensor, num_parallel_calls=AUTOTUNE)\n",
        "            .batch(batch)\n",
        "            .prefetch(AUTOTUNE))"
      ]
    },
    {
      "cell_type": "markdown",
      "id": "c8dff3b6",
      "metadata": {
        "id": "c8dff3b6"
      },
      "source": [
        "## 4. Definición y entrenamiento del modelo"
      ]
    },
    {
      "cell_type": "code",
      "source": [
        "EMBED_DIM = 16\n",
        "model = tf.keras.Sequential([\n",
        "    tf.keras.layers.Embedding(MAX_TOKENS, EMBED_DIM, input_length=MAX_LEN),\n",
        "    tf.keras.layers.GlobalAveragePooling1D(),\n",
        "    tf.keras.layers.Dropout(0.5),\n",
        "    tf.keras.layers.Dense(16, activation='relu'),\n",
        "    tf.keras.layers.Dense(1, activation='sigmoid')\n",
        "])\n",
        "\n",
        "model.compile(optimizer='adam', loss='binary_crossentropy', metrics=['accuracy'])\n",
        "\n",
        "history = model.fit(train_ds, validation_data=test_ds, epochs=5)\n"
      ],
      "metadata": {
        "colab": {
          "base_uri": "https://localhost:8080/"
        },
        "id": "iewIvpRUrLi0",
        "outputId": "e5ca4a8b-9750-4ae0-f2bb-e1614e69ed59"
      },
      "id": "iewIvpRUrLi0",
      "execution_count": 27,
      "outputs": [
        {
          "output_type": "stream",
          "name": "stdout",
          "text": [
            "Epoch 1/5\n"
          ]
        },
        {
          "output_type": "stream",
          "name": "stderr",
          "text": [
            "/usr/local/lib/python3.11/dist-packages/keras/src/layers/core/embedding.py:90: UserWarning: Argument `input_length` is deprecated. Just remove it.\n",
            "  warnings.warn(\n"
          ]
        },
        {
          "output_type": "stream",
          "name": "stdout",
          "text": [
            "\u001b[1m140/140\u001b[0m \u001b[32m━━━━━━━━━━━━━━━━━━━━\u001b[0m\u001b[37m\u001b[0m \u001b[1m3s\u001b[0m 10ms/step - accuracy: 0.8593 - loss: 0.4699 - val_accuracy: 0.8664 - val_loss: 0.3707\n",
            "Epoch 2/5\n",
            "\u001b[1m140/140\u001b[0m \u001b[32m━━━━━━━━━━━━━━━━━━━━\u001b[0m\u001b[37m\u001b[0m \u001b[1m2s\u001b[0m 12ms/step - accuracy: 0.8743 - loss: 0.3660 - val_accuracy: 0.8664 - val_loss: 0.3698\n",
            "Epoch 3/5\n",
            "\u001b[1m140/140\u001b[0m \u001b[32m━━━━━━━━━━━━━━━━━━━━\u001b[0m\u001b[37m\u001b[0m \u001b[1m3s\u001b[0m 13ms/step - accuracy: 0.8595 - loss: 0.3804 - val_accuracy: 0.8664 - val_loss: 0.3631\n",
            "Epoch 4/5\n",
            "\u001b[1m140/140\u001b[0m \u001b[32m━━━━━━━━━━━━━━━━━━━━\u001b[0m\u001b[37m\u001b[0m \u001b[1m1s\u001b[0m 9ms/step - accuracy: 0.8662 - loss: 0.3707 - val_accuracy: 0.8664 - val_loss: 0.3646\n",
            "Epoch 5/5\n",
            "\u001b[1m140/140\u001b[0m \u001b[32m━━━━━━━━━━━━━━━━━━━━\u001b[0m\u001b[37m\u001b[0m \u001b[1m1s\u001b[0m 10ms/step - accuracy: 0.8670 - loss: 0.3623 - val_accuracy: 0.8664 - val_loss: 0.3562\n"
          ]
        }
      ]
    },
    {
      "cell_type": "markdown",
      "id": "b1f400b9",
      "metadata": {
        "id": "b1f400b9"
      },
      "source": [
        "## 5. Curva de aprendizaje"
      ]
    },
    {
      "cell_type": "code",
      "execution_count": 28,
      "id": "a8f28d22",
      "metadata": {
        "colab": {
          "base_uri": "https://localhost:8080/",
          "height": 454
        },
        "id": "a8f28d22",
        "outputId": "c3316ca5-2338-4534-dcc0-37d2f44d33fa"
      },
      "outputs": [
        {
          "output_type": "display_data",
          "data": {
            "text/plain": [
              "<Figure size 640x480 with 1 Axes>"
            ],
            "image/png": "[encoded data removed]"
          },
          "metadata": {}
        }
      ],
      "source": [
        "plt.plot(history.history['accuracy'], label='train')\n",
        "plt.plot(history.history['val_accuracy'], label='val')\n",
        "plt.legend(); plt.xlabel('Época'); plt.ylabel('Precisión'); plt.show()"
      ]
    },
    {
      "cell_type": "markdown",
      "id": "cd877bd4",
      "metadata": {
        "id": "cd877bd4"
      },
      "source": [
        "## 6. Evaluación"
      ]
    },
    {
      "cell_type": "code",
      "execution_count": 29,
      "id": "81a693b2",
      "metadata": {
        "colab": {
          "base_uri": "https://localhost:8080/",
          "height": 783
        },
        "id": "81a693b2",
        "outputId": "49ac9920-6e0d-4a42-b2d5-ead4f136958d"
      },
      "outputs": [
        {
          "output_type": "stream",
          "name": "stdout",
          "text": [
            "\u001b[1m35/35\u001b[0m \u001b[32m━━━━━━━━━━━━━━━━━━━━\u001b[0m\u001b[37m\u001b[0m \u001b[1m0s\u001b[0m 8ms/step\n",
            "              precision    recall  f1-score   support\n",
            "\n",
            "         ham       0.87      1.00      0.93       966\n",
            "        spam       0.00      0.00      0.00       149\n",
            "\n",
            "    accuracy                           0.87      1115\n",
            "   macro avg       0.43      0.50      0.46      1115\n",
            "weighted avg       0.75      0.87      0.80      1115\n",
            "\n"
          ]
        },
        {
          "output_type": "stream",
          "name": "stderr",
          "text": [
            "/usr/local/lib/python3.11/dist-packages/sklearn/metrics/_classification.py:1565: UndefinedMetricWarning: Precision is ill-defined and being set to 0.0 in labels with no predicted samples. Use `zero_division` parameter to control this behavior.\n",
            "  _warn_prf(average, modifier, f\"{metric.capitalize()} is\", len(result))\n",
            "/usr/local/lib/python3.11/dist-packages/sklearn/metrics/_classification.py:1565: UndefinedMetricWarning: Precision is ill-defined and being set to 0.0 in labels with no predicted samples. Use `zero_division` parameter to control this behavior.\n",
            "  _warn_prf(average, modifier, f\"{metric.capitalize()} is\", len(result))\n",
            "/usr/local/lib/python3.11/dist-packages/sklearn/metrics/_classification.py:1565: UndefinedMetricWarning: Precision is ill-defined and being set to 0.0 in labels with no predicted samples. Use `zero_division` parameter to control this behavior.\n",
            "  _warn_prf(average, modifier, f\"{metric.capitalize()} is\", len(result))\n"
          ]
        },
        {
          "output_type": "display_data",
          "data": {
            "text/plain": [
              "<Figure size 640x480 with 2 Axes>"
            ],
            "image/png": "[encoded data removed]"
          },
          "metadata": {}
        },
        {
          "output_type": "stream",
          "name": "stdout",
          "text": [
            "AUC: 0.9265427209693332\n"
          ]
        }
      ],
      "source": [
        "y_prob = model.predict(test_ds).ravel()\n",
        "y_pred = (y_prob > 0.4).astype(int)   # Umbral 0.4 para mejorar recall spam\n",
        "y_true = y_test.values\n",
        "\n",
        "print(classification_report(y_true, y_pred, target_names=['ham','spam']))\n",
        "cm = confusion_matrix(y_true, y_pred)\n",
        "sns.heatmap(cm, annot=True, fmt='d', cmap='Blues',\n",
        "            xticklabels=['ham','spam'], yticklabels=['ham','spam'])\n",
        "plt.xlabel('Predicho'); plt.ylabel('Real'); plt.show()\n",
        "\n",
        "fpr,tpr,_ = roc_curve(y_true, y_prob)\n",
        "print(\"AUC:\", auc(fpr,tpr))\n"
      ]
    },
    {
      "cell_type": "markdown",
      "id": "57df6388",
      "metadata": {
        "id": "57df6388"
      },
      "source": [
        "## 7. Próximos pasos\n",
        "- Aumentar `epochs` si no hay sobreajuste.\n",
        "- Probar `class_weight={0:1,1:2}` en `model.fit`.\n",
        "- Cambiar la arquitectura a `Bidirectional(LSTM(32))` para capturar contexto.\n",
        "- Usar embeddings preentrenados (GloVe) para menos datos."
      ]
    },
    {
      "cell_type": "code",
      "source": [
        "history = model.fit(train_ds, validation_data=test_ds, epochs=10)"
      ],
      "metadata": {
        "colab": {
          "base_uri": "https://localhost:8080/"
        },
        "id": "kXQTrQ2qsDU4",
        "outputId": "cb28e366-8614-49aa-c70c-8e0f0ad7b07e"
      },
      "id": "kXQTrQ2qsDU4",
      "execution_count": 30,
      "outputs": [
        {
          "output_type": "stream",
          "name": "stdout",
          "text": [
            "Epoch 1/10\n",
            "\u001b[1m140/140\u001b[0m \u001b[32m━━━━━━━━━━━━━━━━━━━━\u001b[0m\u001b[37m\u001b[0m \u001b[1m1s\u001b[0m 10ms/step - accuracy: 0.8695 - loss: 0.3457 - val_accuracy: 0.8664 - val_loss: 0.3460\n",
            "Epoch 2/10\n",
            "\u001b[1m140/140\u001b[0m \u001b[32m━━━━━━━━━━━━━━━━━━━━\u001b[0m\u001b[37m\u001b[0m \u001b[1m2s\u001b[0m 8ms/step - accuracy: 0.8655 - loss: 0.3465 - val_accuracy: 0.8664 - val_loss: 0.3231\n",
            "Epoch 3/10\n",
            "\u001b[1m140/140\u001b[0m \u001b[32m━━━━━━━━━━━━━━━━━━━━\u001b[0m\u001b[37m\u001b[0m \u001b[1m1s\u001b[0m 9ms/step - accuracy: 0.8674 - loss: 0.3149 - val_accuracy: 0.8664 - val_loss: 0.2788\n",
            "Epoch 4/10\n",
            "\u001b[1m140/140\u001b[0m \u001b[32m━━━━━━━━━━━━━━━━━━━━\u001b[0m\u001b[37m\u001b[0m \u001b[1m1s\u001b[0m 9ms/step - accuracy: 0.8708 - loss: 0.2685 - val_accuracy: 0.8879 - val_loss: 0.2178\n",
            "Epoch 5/10\n",
            "\u001b[1m140/140\u001b[0m \u001b[32m━━━━━━━━━━━━━━━━━━━━\u001b[0m\u001b[37m\u001b[0m \u001b[1m1s\u001b[0m 9ms/step - accuracy: 0.8915 - loss: 0.2140 - val_accuracy: 0.9507 - val_loss: 0.1857\n",
            "Epoch 6/10\n",
            "\u001b[1m140/140\u001b[0m \u001b[32m━━━━━━━━━━━━━━━━━━━━\u001b[0m\u001b[37m\u001b[0m \u001b[1m3s\u001b[0m 11ms/step - accuracy: 0.9417 - loss: 0.1769 - val_accuracy: 0.9471 - val_loss: 0.1521\n",
            "Epoch 7/10\n",
            "\u001b[1m140/140\u001b[0m \u001b[32m━━━━━━━━━━━━━━━━━━━━\u001b[0m\u001b[37m\u001b[0m \u001b[1m2s\u001b[0m 16ms/step - accuracy: 0.9629 - loss: 0.1417 - val_accuracy: 0.9668 - val_loss: 0.1155\n",
            "Epoch 8/10\n",
            "\u001b[1m140/140\u001b[0m \u001b[32m━━━━━━━━━━━━━━━━━━━━\u001b[0m\u001b[37m\u001b[0m \u001b[1m1s\u001b[0m 9ms/step - accuracy: 0.9786 - loss: 0.0999 - val_accuracy: 0.9776 - val_loss: 0.0884\n",
            "Epoch 9/10\n",
            "\u001b[1m140/140\u001b[0m \u001b[32m━━━━━━━━━━━━━━━━━━━━\u001b[0m\u001b[37m\u001b[0m \u001b[1m1s\u001b[0m 10ms/step - accuracy: 0.9807 - loss: 0.0834 - val_accuracy: 0.9767 - val_loss: 0.0815\n",
            "Epoch 10/10\n",
            "\u001b[1m140/140\u001b[0m \u001b[32m━━━━━━━━━━━━━━━━━━━━\u001b[0m\u001b[37m\u001b[0m \u001b[1m3s\u001b[0m 10ms/step - accuracy: 0.9874 - loss: 0.0615 - val_accuracy: 0.9776 - val_loss: 0.0735\n"
          ]
        }
      ]
    },
    {
      "cell_type": "code",
      "source": [
        "history = model.fit(train_ds, validation_data=test_ds, epochs=10, class_weight={0: 1, 1: 2})"
      ],
      "metadata": {
        "colab": {
          "base_uri": "https://localhost:8080/"
        },
        "id": "oJTey_wesO3E",
        "outputId": "a162b7cd-52a7-4996-c77f-7bd7c9ada250"
      },
      "id": "oJTey_wesO3E",
      "execution_count": 31,
      "outputs": [
        {
          "output_type": "stream",
          "name": "stdout",
          "text": [
            "Epoch 1/10\n",
            "\u001b[1m140/140\u001b[0m \u001b[32m━━━━━━━━━━━━━━━━━━━━\u001b[0m\u001b[37m\u001b[0m \u001b[1m2s\u001b[0m 9ms/step - accuracy: 0.9835 - loss: 0.1082 - val_accuracy: 0.9740 - val_loss: 0.0895\n",
            "Epoch 2/10\n",
            "\u001b[1m140/140\u001b[0m \u001b[32m━━━━━━━━━━━━━━━━━━━━\u001b[0m\u001b[37m\u001b[0m \u001b[1m1s\u001b[0m 9ms/step - accuracy: 0.9842 - loss: 0.0973 - val_accuracy: 0.9812 - val_loss: 0.0656\n",
            "Epoch 3/10\n",
            "\u001b[1m140/140\u001b[0m \u001b[32m━━━━━━━━━━━━━━━━━━━━\u001b[0m\u001b[37m\u001b[0m \u001b[1m3s\u001b[0m 11ms/step - accuracy: 0.9903 - loss: 0.0651 - val_accuracy: 0.9830 - val_loss: 0.0646\n",
            "Epoch 4/10\n",
            "\u001b[1m140/140\u001b[0m \u001b[32m━━━━━━━━━━━━━━━━━━━━\u001b[0m\u001b[37m\u001b[0m \u001b[1m1s\u001b[0m 9ms/step - accuracy: 0.9863 - loss: 0.1097 - val_accuracy: 0.9803 - val_loss: 0.0625\n",
            "Epoch 5/10\n",
            "\u001b[1m140/140\u001b[0m \u001b[32m━━━━━━━━━━━━━━━━━━━━\u001b[0m\u001b[37m\u001b[0m \u001b[1m3s\u001b[0m 9ms/step - accuracy: 0.9912 - loss: 0.0634 - val_accuracy: 0.9821 - val_loss: 0.0642\n",
            "Epoch 6/10\n",
            "\u001b[1m140/140\u001b[0m \u001b[32m━━━━━━━━━━━━━━━━━━━━\u001b[0m\u001b[37m\u001b[0m \u001b[1m1s\u001b[0m 9ms/step - accuracy: 0.9909 - loss: 0.0599 - val_accuracy: 0.9830 - val_loss: 0.0613\n",
            "Epoch 7/10\n",
            "\u001b[1m140/140\u001b[0m \u001b[32m━━━━━━━━━━━━━━━━━━━━\u001b[0m\u001b[37m\u001b[0m \u001b[1m1s\u001b[0m 10ms/step - accuracy: 0.9902 - loss: 0.0708 - val_accuracy: 0.9803 - val_loss: 0.0759\n",
            "Epoch 8/10\n",
            "\u001b[1m140/140\u001b[0m \u001b[32m━━━━━━━━━━━━━━━━━━━━\u001b[0m\u001b[37m\u001b[0m \u001b[1m2s\u001b[0m 9ms/step - accuracy: 0.9862 - loss: 0.0708 - val_accuracy: 0.9839 - val_loss: 0.0621\n",
            "Epoch 9/10\n",
            "\u001b[1m140/140\u001b[0m \u001b[32m━━━━━━━━━━━━━━━━━━━━\u001b[0m\u001b[37m\u001b[0m \u001b[1m3s\u001b[0m 12ms/step - accuracy: 0.9873 - loss: 0.0684 - val_accuracy: 0.9830 - val_loss: 0.0602\n",
            "Epoch 10/10\n",
            "\u001b[1m140/140\u001b[0m \u001b[32m━━━━━━━━━━━━━━━━━━━━\u001b[0m\u001b[37m\u001b[0m \u001b[1m1s\u001b[0m 9ms/step - accuracy: 0.9936 - loss: 0.0405 - val_accuracy: 0.9803 - val_loss: 0.0789\n"
          ]
        }
      ]
    },
    {
      "cell_type": "code",
      "source": [
        "EMBED_DIM = 16\n",
        "model = tf.keras.Sequential([\n",
        "    tf.keras.layers.Embedding(MAX_TOKENS, EMBED_DIM, input_length=MAX_LEN),\n",
        "    # Replacing GlobalAveragePooling1D with Bidirectional LSTM\n",
        "    tf.keras.layers.Bidirectional(tf.keras.layers.LSTM(32)),\n",
        "    tf.keras.layers.Dropout(0.5),\n",
        "    tf.keras.layers.Dense(16, activation='relu'),\n",
        "    tf.keras.layers.Dense(1, activation='sigmoid')\n",
        "])\n"
      ],
      "metadata": {
        "colab": {
          "base_uri": "https://localhost:8080/"
        },
        "id": "aXF8-f8hsV0s",
        "outputId": "5d477c88-a6bd-4bd5-c361-53f1b151a932"
      },
      "id": "aXF8-f8hsV0s",
      "execution_count": 32,
      "outputs": [
        {
          "output_type": "stream",
          "name": "stderr",
          "text": [
            "/usr/local/lib/python3.11/dist-packages/keras/src/layers/core/embedding.py:90: UserWarning: Argument `input_length` is deprecated. Just remove it.\n",
            "  warnings.warn(\n"
          ]
        }
      ]
    },
    {
      "cell_type": "code",
      "metadata": {
        "colab": {
          "base_uri": "https://localhost:8080/"
        },
        "id": "8d4a4689",
        "outputId": "d0ec44af-8b96-4651-a020-1a48b84331da"
      },
      "source": [
        "EMBED_DIM = 16\n",
        "model = tf.keras.Sequential([\n",
        "    tf.keras.layers.Embedding(MAX_TOKENS, EMBED_DIM, input_length=MAX_LEN),\n",
        "    tf.keras.layers.Bidirectional(tf.keras.layers.LSTM(32)),\n",
        "    tf.keras.layers.Dropout(0.5),\n",
        "    tf.keras.layers.Dense(16, activation='relu'),\n",
        "    tf.keras.layers.Dense(1, activation='sigmoid')\n",
        "])\n",
        "\n",
        "model.compile(optimizer='adam', loss='binary_crossentropy', metrics=['accuracy'])\n",
        "\n",
        "history = model.fit(train_ds, validation_data=test_ds, epochs=10, class_weight={0:1,1:2})"
      ],
      "id": "8d4a4689",
      "execution_count": 33,
      "outputs": [
        {
          "output_type": "stream",
          "name": "stdout",
          "text": [
            "Epoch 1/10\n",
            "\u001b[1m140/140\u001b[0m \u001b[32m━━━━━━━━━━━━━━━━━━━━\u001b[0m\u001b[37m\u001b[0m \u001b[1m17s\u001b[0m 88ms/step - accuracy: 0.8671 - loss: 0.5923 - val_accuracy: 0.9641 - val_loss: 0.1193\n",
            "Epoch 2/10\n",
            "\u001b[1m140/140\u001b[0m \u001b[32m━━━━━━━━━━━━━━━━━━━━\u001b[0m\u001b[37m\u001b[0m \u001b[1m21s\u001b[0m 90ms/step - accuracy: 0.9757 - loss: 0.1131 - val_accuracy: 0.9848 - val_loss: 0.0477\n",
            "Epoch 3/10\n",
            "\u001b[1m140/140\u001b[0m \u001b[32m━━━━━━━━━━━━━━━━━━━━\u001b[0m\u001b[37m\u001b[0m \u001b[1m12s\u001b[0m 86ms/step - accuracy: 0.9914 - loss: 0.0472 - val_accuracy: 0.9874 - val_loss: 0.0460\n",
            "Epoch 4/10\n",
            "\u001b[1m140/140\u001b[0m \u001b[32m━━━━━━━━━━━━━━━━━━━━\u001b[0m\u001b[37m\u001b[0m \u001b[1m12s\u001b[0m 87ms/step - accuracy: 0.9972 - loss: 0.0191 - val_accuracy: 0.9865 - val_loss: 0.0457\n",
            "Epoch 5/10\n",
            "\u001b[1m140/140\u001b[0m \u001b[32m━━━━━━━━━━━━━━━━━━━━\u001b[0m\u001b[37m\u001b[0m \u001b[1m11s\u001b[0m 81ms/step - accuracy: 0.9955 - loss: 0.0317 - val_accuracy: 0.9794 - val_loss: 0.0676\n",
            "Epoch 6/10\n",
            "\u001b[1m140/140\u001b[0m \u001b[32m━━━━━━━━━━━━━━━━━━━━\u001b[0m\u001b[37m\u001b[0m \u001b[1m11s\u001b[0m 81ms/step - accuracy: 0.9916 - loss: 0.0393 - val_accuracy: 0.9848 - val_loss: 0.0531\n",
            "Epoch 7/10\n",
            "\u001b[1m140/140\u001b[0m \u001b[32m━━━━━━━━━━━━━━━━━━━━\u001b[0m\u001b[37m\u001b[0m \u001b[1m21s\u001b[0m 85ms/step - accuracy: 0.9993 - loss: 0.0099 - val_accuracy: 0.9848 - val_loss: 0.0538\n",
            "Epoch 8/10\n",
            "\u001b[1m140/140\u001b[0m \u001b[32m━━━━━━━━━━━━━━━━━━━━\u001b[0m\u001b[37m\u001b[0m \u001b[1m13s\u001b[0m 90ms/step - accuracy: 0.9985 - loss: 0.0110 - val_accuracy: 0.9848 - val_loss: 0.0606\n",
            "Epoch 9/10\n",
            "\u001b[1m140/140\u001b[0m \u001b[32m━━━━━━━━━━━━━━━━━━━━\u001b[0m\u001b[37m\u001b[0m \u001b[1m20s\u001b[0m 85ms/step - accuracy: 0.9987 - loss: 0.0153 - val_accuracy: 0.9848 - val_loss: 0.0641\n",
            "Epoch 10/10\n",
            "\u001b[1m140/140\u001b[0m \u001b[32m━━━━━━━━━━━━━━━━━━━━\u001b[0m\u001b[37m\u001b[0m \u001b[1m11s\u001b[0m 79ms/step - accuracy: 0.9999 - loss: 0.0028 - val_accuracy: 0.9848 - val_loss: 0.0669\n"
          ]
        }
      ]
    },
    {
      "cell_type": "code",
      "source": [
        "y_prob = model.predict(test_ds).ravel()\n",
        "y_pred = (y_prob > 0.4).astype(int)   # Umbral 0.4 para mejorar recall spam\n",
        "y_true = y_test.values\n",
        "\n",
        "print(classification_report(y_true, y_pred, target_names=['ham','spam']))\n",
        "cm = confusion_matrix(y_true, y_pred)\n",
        "sns.heatmap(cm, annot=True, fmt='d', cmap='Blues',\n",
        "            xticklabels=['ham','spam'], yticklabels=['ham','spam'])\n",
        "plt.xlabel('Predicho'); plt.ylabel('Real'); plt.show()\n",
        "\n",
        "fpr,tpr,_ = roc_curve(y_true, y_prob)\n",
        "print(\"AUC:\", auc(fpr,tpr))"
      ],
      "metadata": {
        "colab": {
          "base_uri": "https://localhost:8080/",
          "height": 652
        },
        "id": "ENxVDbc7t6EW",
        "outputId": "b4b90787-cbc0-49b2-9242-2125bdcb6d71"
      },
      "id": "ENxVDbc7t6EW",
      "execution_count": 34,
      "outputs": [
        {
          "output_type": "stream",
          "name": "stdout",
          "text": [
            "\u001b[1m35/35\u001b[0m \u001b[32m━━━━━━━━━━━━━━━━━━━━\u001b[0m\u001b[37m\u001b[0m \u001b[1m2s\u001b[0m 54ms/step\n",
            "              precision    recall  f1-score   support\n",
            "\n",
            "         ham       0.99      1.00      0.99       966\n",
            "        spam       0.98      0.91      0.94       149\n",
            "\n",
            "    accuracy                           0.98      1115\n",
            "   macro avg       0.98      0.95      0.97      1115\n",
            "weighted avg       0.98      0.98      0.98      1115\n",
            "\n"
          ]
        },
        {
          "output_type": "display_data",
          "data": {
            "text/plain": [
              "<Figure size 640x480 with 2 Axes>"
            ],
            "image/png": "[encoded data removed]"
          },
          "metadata": {}
        },
        {
          "output_type": "stream",
          "name": "stdout",
          "text": [
            "AUC: 0.9898842525046202\n"
          ]
        }
      ]
    }
  ],
  "metadata": {
    "colab": {
      "provenance": []
    },
    "language_info": {
      "name": "python"
    },
    "kernelspec": {
      "name": "python3",
      "display_name": "Python 3"
    }
  },
  "nbformat": 4,
  "nbformat_minor": 5
}