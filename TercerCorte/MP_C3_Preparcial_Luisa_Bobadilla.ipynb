{
  "cells": [
    {
      "cell_type": "markdown",
      "id": "0b418101",
      "metadata": {
        "id": "0b418101"
      },
      "source": [
        "# 🧪 Pre‑Parcial – Métodos Predictivos\n",
        "**Supervisado vs. No Supervisado**\n",
        "\n",
        "> Completa las celdas con `TODO` y ejecuta *Runtime → Run all* antes de entregar.\n"
      ]
    },
    {
      "cell_type": "markdown",
      "id": "5b235da4",
      "metadata": {
        "id": "5b235da4"
      },
      "source": [
        "### Contenido\n",
        "1. [Parte A – Teoría](#parte-a)\n",
        "2. [Parte B – Práctica](#parte-b)\n"
      ]
    },
    {
      "cell_type": "markdown",
      "id": "6bf1ec3f",
      "metadata": {
        "id": "6bf1ec3f"
      },
      "source": [
        "## Parte A — Cuestionario Teórico (40 pts)\n",
        "Responde **brevemente** en las celdas Markdown que siguen a cada pregunta.\n"
      ]
    },
    {
      "cell_type": "markdown",
      "id": "29324086",
      "metadata": {
        "id": "29324086"
      },
      "source": [
        "#### 1️⃣ **Variable objetivo (y)** – Defínela y da un ejemplo en este dataset.\n",
        "\n",
        "*Respuesta:* <!-- TODO -->\n",
        "\n",
        "La variable objetivo (y) es la que se quiere predecir en un modelo. En un dataset de clientes, por ejemplo, la variable objetivo puede ser si realizan o no una compra.\n",
        "\n",
        "\n"
      ]
    },
    {
      "cell_type": "markdown",
      "id": "00e18666",
      "metadata": {
        "id": "00e18666"
      },
      "source": [
        "#### 2️⃣ Ordena las fases del *pipeline* de ML: `Modelado`, `Pre‑procesamiento`, `EDA`, `Evaluación`, `Insight de negocio`.\n",
        "\n",
        "*Respuesta:* <!-- TODO -->\n",
        "\n",
        "Problema → EDA → Pre-procesamiento → Modelado → Evaluación → Insight de negocio\n",
        "Este orden permite primero entender el problema desde el negocio, explorar los datos, prepararlos, construir el modelo, evaluarlo y tomar desiciones.\n",
        "\n",
        "\n"
      ]
    },
    {
      "cell_type": "markdown",
      "id": "910a8986",
      "metadata": {
        "id": "910a8986"
      },
      "source": [
        "#### 3️⃣ Para un problema de **clases desbalanceadas**, ¿qué métrica priorizarías y por qué?\n",
        "\n",
        "*Respuesta:* <!-- TODO -->\n",
        "\n",
        "Priorizaría el F1-score porque equilibra precisión y recall, lo cual es vital cuando las clases no están distribuidas equitativamente. La exactitud (accuracy) puede ser engañosa si la clase minoritaria es la más importante."
      ]
    },
    {
      "cell_type": "markdown",
      "id": "4de30673",
      "metadata": {
        "id": "4de30673"
      },
      "source": [
        "#### 4️⃣ Describe **overfitting** y cómo lo detectarías en la práctica.\n",
        "\n",
        "*Respuesta:* <!-- TODO -->\n",
        "\n",
        "El overfitting es cuando un modelo aprende tanto los patrones como el ruido del conjunto de entrenamiento, lo que lo hace ineficiente al generalizar. Se detecta comparando el rendimiento, si el modelo tiene alta precisión en entrenamiento pero bajo desempeño en validación o test, probablemente hay sobreajuste.\n",
        "\n"
      ]
    },
    {
      "cell_type": "markdown",
      "id": "e3fbcf52",
      "metadata": {
        "id": "e3fbcf52"
      },
      "source": [
        "#### 5️⃣ Completa: *K‑means es un algoritmo de _________ porque ________.*\n",
        "\n",
        "*Respuesta:* <!-- TODO -->\n",
        "\n",
        "K-means es un algoritmo de clustering no supervisado porque agrupa los datos en k clústeres sin requerir etiquetas, basándose en la similitud.\n",
        "\n"
      ]
    },
    {
      "cell_type": "markdown",
      "id": "033b889a",
      "metadata": {
        "id": "033b889a"
      },
      "source": [
        "#### 7️⃣ En **regresión**, ¿cómo es la variable objetivo? (cualitativa, cuantitativa, binaria…).\n",
        "\n",
        "*Respuesta:* <!-- TODO -->\n",
        "\n",
        "Es cuantitativa ya que la regresión busca predecir valores numéricos como el precio de una casa o el ingreso mensual.\n"
      ]
    },
    {
      "cell_type": "markdown",
      "id": "aea04580",
      "metadata": {
        "id": "aea04580"
      },
      "source": [
        "#### 8️⃣ Menciona 2 técnicas comunes de **pre‑procesamiento de texto**.\n",
        "\n",
        "*Respuesta:* <!-- TODO -->\n",
        "\n",
        "1. Normalización: Convertir el texto a un formato estándar, por ejemplo poner todo en minúsculas o eliminar signos de puntuación.\n",
        "\n",
        "2. Eliminación de palabras vacías: Eliminar palabras comunes que no aportan mucho significado al análisis, por ejemplo \"el\" o \"la\"."
      ]
    },
    {
      "cell_type": "markdown",
      "id": "7dc106a4",
      "metadata": {
        "id": "7dc106a4"
      },
      "source": [
        "#### 9️⃣ ¿Qué representa el parámetro *k* en K‑means y qué ocurre si es muy grande?\n",
        "\n",
        "*Respuesta:* <!-- TODO -->\n",
        "\n",
        "K representa el número de clústeres que queremos formar. Si se elige un valor muy grande, los clústeres pueden volverse demasiado pequeños, representando ruido o subdivisiones irrelevantes, lo cual puede perjudicar la interpretación y generalización del modelo.\n",
        "\n",
        "\n"
      ]
    },
    {
      "cell_type": "markdown",
      "id": "86dcdc0c",
      "metadata": {
        "id": "86dcdc0c"
      },
      "source": [
        "#### 🔟 Define brevemente un **embedding** en NLP y su utilidad.\n",
        "\n",
        "*Respuesta:* <!-- TODO -->\n",
        "\n",
        "Un embedding es una representación numérica densa de palabras en un espacio vectorial. A diferencia del one-hot encoding, los embeddings capturan relaciones semánticas como por ejemplo \"rey\" y \"reina\" están cerca en el espacio. Son fundamentales en NLP porque permiten que los modelos comprendan mejor el significado contextual del lenguaje."
      ]
    },
    {
      "cell_type": "markdown",
      "id": "2801cc8c",
      "metadata": {
        "id": "2801cc8c"
      },
      "source": [
        "## <a id='parte-b'></a>💻 Parte B — Práctica (60 pts)\n",
        "Trabajarás con la tabla de reseñas de Amazon que contiene, entre otras, las columnas `reviewerID`, `asin`, `helpful`, `reviewText`, `overall`, `summary`, `unixReviewTime`, `day_diff`.\n",
        "\n",
        "> **Objetivos**\n",
        "> 1. Clasificar reseñas positivas (rating ≥ 4) vs negativas.\n",
        "> 2. Agrupar reseñas con K‑means y perfilar clusters.\n"
      ]
    },
    {
      "cell_type": "markdown",
      "source": [
        "Columnas de la tabla\n",
        "📄 Reviewer ID: Unique identifier for the reviewer.\n",
        "\n",
        "📦 ASIN: Amazon Standard Identification Number for the product.\n",
        "\n",
        "👤 Reviewer Name: Name of the reviewer.\n",
        "\n",
        "👍 Helpful: Number of helpful votes the review received.\n",
        "\n",
        "📝 Review Text: The content of the review written by the customer.\n",
        "\n",
        "⭐ Overall Rating: The overall rating given to the product (ranging from 1 to 5 stars).\n",
        "\n",
        "📰 Summary: A brief summary of the review.\n",
        "\n",
        "🕰️ Unix Review Time: The time the review was posted in Unix timestamp format.\n",
        "\n",
        "📅 Review Time: The time the review was posted in a readable date format.\n",
        "\n",
        "📆 Day Difference: The number of days between the review date and the current date.\n",
        "\n",
        "✔️ Helpful Yes: Number of positive helpful votes.\n",
        "\n",
        "🔢 Total Votes: Total number of votes the review received."
      ],
      "metadata": {
        "id": "7hsADh7PqTRf"
      },
      "id": "7hsADh7PqTRf"
    },
    {
      "cell_type": "markdown",
      "id": "37f40c50",
      "metadata": {
        "id": "37f40c50"
      },
      "source": [
        "### 1. Setup"
      ]
    },
    {
      "cell_type": "code",
      "execution_count": null,
      "id": "e0037397",
      "metadata": {
        "id": "e0037397"
      },
      "outputs": [],
      "source": [
        "# Instala paquetes extra si los necesitas\n",
        "# !pip install shap\n",
        "\n",
        "import pandas as pd, numpy as np, matplotlib.pyplot as plt, seaborn as sns\n",
        "from sklearn.model_selection import train_test_split\n",
        "from sklearn.feature_extraction.text import TfidfVectorizer\n",
        "from sklearn.pipeline import Pipeline\n",
        "from sklearn.linear_model import LogisticRegression\n",
        "from sklearn.metrics import classification_report, ConfusionMatrixDisplay\n",
        "from sklearn.cluster import KMeans\n",
        "from sklearn.metrics import silhouette_score\n",
        "import warnings, random, os\n",
        "warnings.filterwarnings('ignore')\n",
        "random.seed(42)\n",
        "np.random.seed(42)"
      ]
    },
    {
      "cell_type": "markdown",
      "id": "bb527f5e",
      "metadata": {
        "id": "bb527f5e"
      },
      "source": [
        "### 2. Carga del dataset"
      ]
    },
    {
      "cell_type": "code",
      "source": [
        "!wget https://github.com/javierherrera1996/IntroMachineLearning/raw/refs/heads/main/TercerCorte/amazon_review.csv.zip"
      ],
      "metadata": {
        "colab": {
          "base_uri": "https://localhost:8080/"
        },
        "id": "JXgp7kP5oj1e",
        "outputId": "7c3fe064-cfa3-4f95-ce39-0d49b8d1cd4c"
      },
      "id": "JXgp7kP5oj1e",
      "execution_count": null,
      "outputs": [
        {
          "output_type": "stream",
          "name": "stdout",
          "text": [
            "--2025-05-31 20:38:39--  https://github.com/javierherrera1996/IntroMachineLearning/raw/refs/heads/main/TercerCorte/amazon_review.csv.zip\n",
            "Resolving github.com (github.com)... 140.82.116.4\n",
            "Connecting to github.com (github.com)|140.82.116.4|:443... connected.\n",
            "HTTP request sent, awaiting response... 302 Found\n",
            "Location: https://raw.githubusercontent.com/javierherrera1996/IntroMachineLearning/refs/heads/main/TercerCorte/amazon_review.csv.zip [following]\n",
            "--2025-05-31 20:38:40--  https://raw.githubusercontent.com/javierherrera1996/IntroMachineLearning/refs/heads/main/TercerCorte/amazon_review.csv.zip\n",
            "Resolving raw.githubusercontent.com (raw.githubusercontent.com)... 185.199.108.133, 185.199.109.133, 185.199.110.133, ...\n",
            "Connecting to raw.githubusercontent.com (raw.githubusercontent.com)|185.199.108.133|:443... connected.\n",
            "HTTP request sent, awaiting response... 200 OK\n",
            "Length: 721801 (705K) [application/zip]\n",
            "Saving to: ‘amazon_review.csv.zip.1’\n",
            "\n",
            "amazon_review.csv.z 100%[===================>] 704.88K  --.-KB/s    in 0.04s   \n",
            "\n",
            "2025-05-31 20:38:40 (17.0 MB/s) - ‘amazon_review.csv.zip.1’ saved [721801/721801]\n",
            "\n"
          ]
        }
      ]
    },
    {
      "cell_type": "code",
      "source": [
        "!unzip amazon_review.csv.zip"
      ],
      "metadata": {
        "colab": {
          "base_uri": "https://localhost:8080/"
        },
        "id": "AK_yVUSMoovr",
        "outputId": "a5fb5caf-926b-486d-9b86-5a7b7b196a29"
      },
      "id": "AK_yVUSMoovr",
      "execution_count": null,
      "outputs": [
        {
          "metadata": {
            "tags": null
          },
          "name": "stdout",
          "output_type": "stream",
          "text": [
            "Archive:  amazon_review.csv.zip\n",
            "replace amazon_review.csv? [y]es, [n]o, [A]ll, [N]one, [r]ename: "
          ]
        }
      ]
    },
    {
      "cell_type": "code",
      "source": [
        "import pandas as pd\n",
        "df = pd.read_csv('amazon_review.csv')\n",
        "df.head()"
      ],
      "metadata": {
        "id": "nuH4Usfbok5j"
      },
      "id": "nuH4Usfbok5j",
      "execution_count": null,
      "outputs": []
    },
    {
      "cell_type": "markdown",
      "id": "2e62da97",
      "metadata": {
        "id": "2e62da97"
      },
      "source": [
        "### 3. Exploratory Data Analysis (EDA)"
      ]
    },
    {
      "cell_type": "code",
      "execution_count": null,
      "id": "b26855f6",
      "metadata": {
        "id": "b26855f6"
      },
      "outputs": [],
      "source": [
        "df.shape"
      ]
    },
    {
      "cell_type": "code",
      "source": [
        "df.info()"
      ],
      "metadata": {
        "id": "Nz4iVp3nxL2Y"
      },
      "id": "Nz4iVp3nxL2Y",
      "execution_count": null,
      "outputs": []
    },
    {
      "cell_type": "code",
      "source": [
        "df.describe()"
      ],
      "metadata": {
        "id": "VKSnPMOXxPKn"
      },
      "id": "VKSnPMOXxPKn",
      "execution_count": null,
      "outputs": []
    },
    {
      "cell_type": "code",
      "source": [
        "df.isna().sum()"
      ],
      "metadata": {
        "id": "QMcbUlFVxSCO"
      },
      "id": "QMcbUlFVxSCO",
      "execution_count": null,
      "outputs": []
    },
    {
      "cell_type": "code",
      "source": [
        "print(\"\\nDistribución de la columna 'overall' (rating):\")\n",
        "print(df['overall'].value_counts())\n",
        "print(df['overall'].value_counts(normalize=True)) # En porcentajes\n",
        "plt.figure(figsize=(8, 6))\n",
        "sns.countplot(x='overall', data=df)\n",
        "plt.title('Distribución de Ratings (overall)')\n",
        "plt.xlabel('Rating')\n",
        "plt.ylabel('Cantidad de Reseñas')\n",
        "plt.show()"
      ],
      "metadata": {
        "id": "73h0bN63xXzS"
      },
      "id": "73h0bN63xXzS",
      "execution_count": null,
      "outputs": []
    },
    {
      "cell_type": "markdown",
      "id": "db24870b",
      "metadata": {
        "id": "db24870b"
      },
      "source": [
        "### 4. Limpieza & Feature Engineering"
      ]
    },
    {
      "cell_type": "markdown",
      "source": [
        "### 4.1 Cree un revie_datetime usando unixReviewTime y la funcion pd.to_datetime"
      ],
      "metadata": {
        "id": "263RZ7LVppCJ"
      },
      "id": "263RZ7LVppCJ"
    },
    {
      "cell_type": "code",
      "source": [
        "df['review_datetime'] = pd.to_datetime(df['unixReviewTime'], unit='s')\n",
        "df.head()"
      ],
      "metadata": {
        "id": "aaRVdrUBp1r5"
      },
      "id": "aaRVdrUBp1r5",
      "execution_count": null,
      "outputs": []
    },
    {
      "cell_type": "markdown",
      "source": [
        "### 4.2 Cree una columna positive que sea igual a 1 cuando overall sea mayor o igual  a 4."
      ],
      "metadata": {
        "id": "vghJGFePp1L6"
      },
      "id": "vghJGFePp1L6"
    },
    {
      "cell_type": "code",
      "source": [
        "df['positive'] = (df['overall'] >= 4).astype(int)\n",
        "df.head()"
      ],
      "metadata": {
        "id": "IwtJPdBFposv"
      },
      "id": "IwtJPdBFposv",
      "execution_count": null,
      "outputs": []
    },
    {
      "cell_type": "markdown",
      "source": [
        "### 4.3 Cree una columna text que sea la union de summary y review text: text_cols['summary'] + '. ' + text_cols['reviewText']).str.strip()"
      ],
      "metadata": {
        "id": "XitrTtwNqugO"
      },
      "id": "XitrTtwNqugO"
    },
    {
      "cell_type": "code",
      "source": [
        "text_cols = df[['summary', 'reviewText']].fillna('') # fillna handles potential NaN values\n",
        "df['text'] = (text_cols['summary'] + '. ' + text_cols['reviewText']).str.strip()\n",
        "df.head()"
      ],
      "metadata": {
        "id": "dJsEMeTHrDxp"
      },
      "id": "dJsEMeTHrDxp",
      "execution_count": null,
      "outputs": []
    },
    {
      "cell_type": "markdown",
      "source": [
        "### 4.4 Elimine las columnas que no puede usar en el modleo de clasificacion"
      ],
      "metadata": {
        "id": "VVPUjYq-q_1f"
      },
      "id": "VVPUjYq-q_1f"
    },
    {
      "cell_type": "code",
      "source": [
        "df = df.drop(['reviewerID', 'asin', 'reviewerName', 'helpful', 'overall', 'unixReviewTime', 'reviewTime', 'day_diff', 'helpful_yes', 'total_vote'], axis=1)\n",
        "df.head()"
      ],
      "metadata": {
        "id": "rK_Wjjig4qK_"
      },
      "id": "rK_Wjjig4qK_",
      "execution_count": null,
      "outputs": []
    },
    {
      "cell_type": "code",
      "source": [
        "df.info()"
      ],
      "metadata": {
        "id": "bRtcB4xM5JFE"
      },
      "id": "bRtcB4xM5JFE",
      "execution_count": null,
      "outputs": []
    },
    {
      "cell_type": "code",
      "source": [
        "X_train, X_test, y_train, y_test = train_test_split(\n",
        "        df['text'], df['positive'], test_size=0.3, stratify=df['positive'], random_state=42)\n",
        "\n",
        "pipe = Pipeline([\n",
        "    ('tfidf', TfidfVectorizer(max_features=10000)),\n",
        "    ('clf',  LogisticRegression(max_iter=1000, class_weight='balanced', n_jobs=-1, random_state=42))\n",
        "])\n",
        "\n",
        "# pipe.fit(X_train, y_train)"
      ],
      "metadata": {
        "id": "xUpS8Cjbs4YS"
      },
      "id": "xUpS8Cjbs4YS",
      "execution_count": null,
      "outputs": []
    },
    {
      "cell_type": "markdown",
      "id": "e98db953",
      "metadata": {
        "id": "e98db953"
      },
      "source": [
        "### 5. Modelo de Clasificación – Supervisado (25 pts)\n",
        "  * Ralice una regreison logistica y use la columa positive que creoo como target, entregue una matriz de confusion"
      ]
    },
    {
      "cell_type": "code",
      "execution_count": null,
      "id": "f408a4bc",
      "metadata": {
        "id": "f408a4bc"
      },
      "outputs": [],
      "source": [
        "from sklearn.metrics import confusion_matrix\n",
        "import matplotlib.pyplot as plt\n",
        "import seaborn as sns\n",
        "\n",
        "pipe.fit(X_train, y_train)\n",
        "y_pred = pipe.predict(X_test)"
      ]
    },
    {
      "cell_type": "code",
      "source": [
        "cm = confusion_matrix(y_test, y_pred)\n",
        "cm"
      ],
      "metadata": {
        "id": "rI21FCrZ6kPR"
      },
      "id": "rI21FCrZ6kPR",
      "execution_count": null,
      "outputs": []
    },
    {
      "cell_type": "code",
      "source": [
        "plt.figure(figsize=(8, 6))\n",
        "sns.heatmap(cm, annot=True, fmt='d', cmap='Blues', xticklabels=['Negativo (0)', 'Positivo (1)'], yticklabels=['Negativo (0)', 'Positivo (1)'])\n",
        "plt.xlabel('Predicho')\n",
        "plt.ylabel('Real')\n",
        "plt.title('Matriz de Confusión')\n",
        "plt.show()"
      ],
      "metadata": {
        "id": "Vvw7_CRr6pNx"
      },
      "id": "Vvw7_CRr6pNx",
      "execution_count": null,
      "outputs": []
    },
    {
      "cell_type": "code",
      "source": [
        "print(\"\\nReporte de Clasificación:\")\n",
        "print(classification_report(y_test, y_pred))"
      ],
      "metadata": {
        "id": "WX6m6qFQ6zA7"
      },
      "id": "WX6m6qFQ6zA7",
      "execution_count": null,
      "outputs": []
    },
    {
      "cell_type": "markdown",
      "id": "a689272e",
      "metadata": {
        "id": "a689272e"
      },
      "source": [
        "### 6. Clustering K‑means – No Supervisado (20 pts)\n",
        "Haga un modelo para agrupasr los comentarios: vectorizer = TfidfVectorizer(max_features=10000)\n",
        "X_vec = vectorizer.fit_transform(df['text'])\n",
        "\n",
        "y cre una variable que se llame clsuter"
      ]
    },
    {
      "cell_type": "code",
      "execution_count": null,
      "id": "c4de9f6c",
      "metadata": {
        "id": "c4de9f6c"
      },
      "outputs": [],
      "source": [
        "vectorizer = TfidfVectorizer(max_features=10000)\n",
        "X_vec = vectorizer.fit_transform(df['text'])"
      ]
    },
    {
      "cell_type": "code",
      "source": [
        "k = 5\n",
        "kmeans = KMeans(n_clusters=k, random_state=42, n_init=10) # n_init para evitar advertencia\n",
        "cluster = kmeans.fit_predict(X_vec)"
      ],
      "metadata": {
        "id": "a64sQks07AhE"
      },
      "id": "a64sQks07AhE",
      "execution_count": null,
      "outputs": []
    },
    {
      "cell_type": "code",
      "source": [
        "df['cluster'] = cluster\n",
        "df.head()"
      ],
      "metadata": {
        "id": "BoyD32Li7HLr"
      },
      "id": "BoyD32Li7HLr",
      "execution_count": null,
      "outputs": []
    },
    {
      "cell_type": "code",
      "source": [
        "print(\"\\nDistribución de reseñas por cluster:\")\n",
        "print(df['cluster'].value_counts())"
      ],
      "metadata": {
        "id": "yaMYo74o8rvS"
      },
      "id": "yaMYo74o8rvS",
      "execution_count": null,
      "outputs": []
    },
    {
      "cell_type": "markdown",
      "id": "0e817a5b",
      "metadata": {
        "id": "0e817a5b"
      },
      "source": [
        "#### Perfil de clusters: Entregue una descriptiva de que contenia cada clster en termino de las otras variables:"
      ]
    },
    {
      "cell_type": "code",
      "source": [
        "# prompt: Perfil de clusters: Entregue una descriptiva de que contenia cada clster en termino de las otras variables\n",
        "\n",
        "print(\"\\n--- Perfil de Clusters ---\")\n",
        "\n",
        "# Iterar sobre cada cluster para analizar su perfil\n",
        "for cluster_id in sorted(df['cluster'].unique()):\n",
        "    print(f\"\\n--- Cluster {cluster_id} ---\")\n",
        "\n",
        "    # Filtrar el DataFrame para el cluster actual\n",
        "    cluster_df = df[df['cluster'] == cluster_id]\n",
        "    num_reviews = len(cluster_df)\n",
        "\n",
        "    print(f\"Total de reseñas en este cluster: {num_reviews}\")\n",
        "\n",
        "    # Análisis de la variable 'positive' (sentimiento binario)\n",
        "    print(\"\\nDistribución de Sentimiento (Positivo/Negativo):\")\n",
        "    print(cluster_df['positive'].value_counts(normalize=True)) # Mostrar porcentajes\n",
        "\n",
        "    # Análisis de la variable 'helpful' (votos útiles) - estadísticas descriptivas\n",
        "    # Asegúrate de que 'helpful' es numérico. Si es una cadena, puedes necesitar convertirla.\n",
        "    # Aquí asumimos que 'helpful' en el df original ya era numérico o se limpió antes del drop.\n",
        "    # Si usaste df_cleaned para el clustering, podrías necesitar re-unir las columnas relevantes.\n",
        "    # Si el clustering se hizo sobre df['text'], entonces podemos usar el df original.\n",
        "    if 'helpful' in cluster_df.columns:\n",
        "        print(\"\\nEstadísticas descriptivas de Votos Útiles ('helpful'):\")\n",
        "        print(cluster_df['helpful'].describe())\n",
        "    else:\n",
        "        print(\"\\nLa columna 'helpful' no está disponible en el DataFrame del cluster.\")\n",
        "\n",
        "\n",
        "    # Análisis de la variable 'review_length'\n",
        "    if 'review_length' in cluster_df.columns:\n",
        "        print(\"\\nEstadísticas descriptivas de la Longitud de la Reseña:\")\n",
        "        print(cluster_df['review_length'].describe())\n",
        "    else:\n",
        "         print(\"\\nLa columna 'review_length' no está disponible en el DataFrame del cluster.\")\n",
        "\n",
        "\n",
        "    # Análisis de las palabras más frecuentes en el texto del cluster\n",
        "    # Puedes tomar una muestra si el cluster es muy grande\n",
        "    sample_text = ' '.join(cluster_df['text'].sample(min(1000, num_reviews), replace=True).tolist())\n",
        "\n",
        "    # Usar el mismo vectorizador TF-IDF (o uno nuevo si quieres) para analizar el texto del cluster\n",
        "    # Para simple frecuencia, puedes usar CountVectorizer o analizar la cadena directamente\n",
        "    from collections import Counter\n",
        "    import re\n",
        "\n",
        "    words = re.findall(r'\\b\\w+\\b', sample_text.lower()) # Extrae palabras, convierte a minúsculas\n",
        "    stop_words = set(['el', 'la', 'los', 'las', 'un', 'una', 'unos', 'unas', 'de', 'en', 'y', 'a', 'que', 'es', 'con', 'para', 'del', 'al', 'se', 'por', 'su', 'sus', 'como', 'mas', 'pero', 'este', 'esta', 'si', 'no', 'cuando', 'donde', 'porque', 'muy', 'mi', 'mis', 'tu', 'tus', 'el', 'ella', 'nosotros', 'vosotros', 'ellos', 'las', 'los']) # Ejemplo de stop words en español\n",
        "\n",
        "    # Filtrar stop words\n",
        "    filtered_words = [word for word in words if word not in stop_words and len(word) > 1]\n",
        "\n",
        "    word_counts = Counter(filtered_words)\n",
        "    print(\"\\nPalabras más frecuentes (Top 10):\")\n",
        "    print(word_counts.most_common(10))\n",
        "\n",
        "    print(\"-\" * (len(f\"--- Cluster {cluster_id} ---\"))) # Separador para el siguiente cluster"
      ],
      "metadata": {
        "id": "OilyFHNA-Ypw"
      },
      "id": "OilyFHNA-Ypw",
      "execution_count": null,
      "outputs": []
    },
    {
      "cell_type": "markdown",
      "id": "d4d51cd5",
      "metadata": {
        "id": "d4d51cd5"
      },
      "source": [
        "### 7. Insight & Recomendaciones (15 pts)"
      ]
    },
    {
      "cell_type": "markdown",
      "id": "ccca05a5",
      "metadata": {
        "id": "ccca05a5"
      },
      "source": [
        "*Escribe aquí tu análisis de cómo se relacionan los errores del modelo con los clusters y propone 1‑2 acciones de negocio basadas en tus hallazgos.*\n",
        "\n",
        "<!-- TODO -->"
      ]
    },
    {
      "cell_type": "markdown",
      "source": [
        "**Análisis de errores del modelo y su relación con los grupos (clusters):**\n",
        "El modelo de regresión logística que usamos para clasificar reseñas como positivas (4 o más estrellas) o negativas muestra buenos resultados generales, con un 92% de precisión. Sin embargo, si miramos más de cerca la matriz de confusión y el informe de desempeño, vemos que aún hay puntos a mejorar, sobre todo al identificar reseñas negativas, que son menos comunes.\n",
        "\n",
        "- Falsos negativos (FN): El modelo clasificó 90 reseñas negativas como si fueran positivas. Esto hace que su capacidad para detectar reseñas negativas (recall) sea baja, con solo un 78% de aciertos en esa clase. Esto es preocupante, ya que se pueden perder oportunidades de detectar fallas en el producto o servicio.\n",
        "\n",
        "- Falsos positivos (FP): El modelo también clasificó 31 reseñas positivas como si fueran negativas. Aunque no son muchas, pueden llevar a decisiones innecesarias o malinterpretaciones sobre la satisfacción del cliente.\n",
        "\n",
        "- Desbalance entre clases: Solo el 20% de las reseñas son negativas, lo que hace más difícil para el modelo aprender a identificarlas correctamente. Aunque usamos una técnica para balancear el modelo (class_weight='balanced'), el problema persiste, algo común cuando hay mucha más cantidad de una clase que de otra.\n",
        "\n",
        "- Relación con los grupos (clusters):\n",
        "Al analizar los grupos creados con clustering, vimos que algunos tienen más reseñas negativas que otros. Por ejemplo, el Cluster 1 tiene casi un 23% de reseñas negativas, mientras que otros, como el Cluster 0 y el 2, son casi totalmente positivos. Es probable que muchos de los errores del modelo (como los falsos negativos) estén dentro de los grupos con opiniones mixtas, donde el texto es más difícil de interpretar. En cambio, los clusters con reseñas mayoritariamente positivas ayudan a que el modelo tenga un buen rendimiento general.\n",
        "\n",
        "**Recomendaciones para el negocio:**\n",
        "1. Analizar errores en clusters específicos: Se deberían revisar las reseñas que el modelo clasificó mal (especialmente las negativas que trató como positivas), enfocándose en los grupos con más reseñas negativas, como el Cluster 1. Esto puede hacerse de forma manual o automática para ver si hay palabras, tonos (como sarcasmo) o temas que el modelo no está entendiendo. Esta información serviría para mejorar el procesamiento del texto o incluso probar modelos más avanzados.\n",
        "\n",
        "2. Usar los clusters como apoyo: Los clusters pueden ayudar a entender mejor las reseñas antes de clasificarlas. Por ejemplo, se puede dar prioridad a los clusters con más reseñas negativas para análisis más detallados. También se podrían crear modelos especializados para cada cluster. Además, el análisis de las palabras comunes en cada grupo puede dar pistas sobre lo que más gusta o molesta a los clientes, lo cual puede usarse para tomar decisiones en marketing, producto o servicio al cliente."
      ],
      "metadata": {
        "id": "gxZTJ68wA8Fw"
      },
      "id": "gxZTJ68wA8Fw"
    },
    {
      "cell_type": "markdown",
      "id": "e3023398",
      "metadata": {
        "id": "e3023398"
      },
      "source": [
        "\n",
        "## ✅ 8. Checklist final\n",
        "- [ ] Notebook corre sin errores\n",
        "- [ ] Respuestas teóricas completadas\n",
        "- [ ] Comentarios claros y semillas fijas\n",
        "- [ ] 5 slides creadas y exportadas a PDF\n"
      ]
    }
  ],
  "metadata": {
    "language_info": {
      "name": "python"
    },
    "colab": {
      "provenance": []
    },
    "kernelspec": {
      "name": "python3",
      "display_name": "Python 3"
    }
  },
  "nbformat": 4,
  "nbformat_minor": 5
}