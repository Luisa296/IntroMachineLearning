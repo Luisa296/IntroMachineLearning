{
  "nbformat": 4,
  "nbformat_minor": 0,
  "metadata": {
    "colab": {
      "provenance": [],
      "toc_visible": true
    },
    "kernelspec": {
      "name": "python3",
      "display_name": "Python 3"
    },
    "language_info": {
      "name": "python"
    }
  },
  "cells": [
    {
      "cell_type": "markdown",
      "source": [
        "#Mi primer análisis"
      ],
      "metadata": {
        "id": "bvAis9R6VMCH"
      }
    },
    {
      "cell_type": "markdown",
      "source": [
        "##Sección 1"
      ],
      "metadata": {
        "id": "4iqLoKJQVEa_"
      }
    },
    {
      "cell_type": "code",
      "source": [
        "print(\"Hola mundo\")"
      ],
      "metadata": {
        "colab": {
          "base_uri": "https://localhost:8080/"
        },
        "id": "KlW1MaQiPAtE",
        "outputId": "3e97d259-3c34-4a28-c5ec-bfa17cde5f9f"
      },
      "execution_count": 2,
      "outputs": [
        {
          "output_type": "stream",
          "name": "stdout",
          "text": [
            "Hola mundo\n"
          ]
        }
      ]
    },
    {
      "cell_type": "markdown",
      "source": [
        "##Sección 2"
      ],
      "metadata": {
        "id": "X-zPEVd0VROv"
      }
    },
    {
      "cell_type": "code",
      "source": [
        "5*8"
      ],
      "metadata": {
        "colab": {
          "base_uri": "https://localhost:8080/"
        },
        "id": "manU3wO9QaB0",
        "outputId": "264f3a37-6f14-46b5-bba9-b5782e74a83c"
      },
      "execution_count": 3,
      "outputs": [
        {
          "output_type": "execute_result",
          "data": {
            "text/plain": [
              "40"
            ]
          },
          "metadata": {},
          "execution_count": 3
        }
      ]
    }
  ]
}